{
  "nbformat": 4,
  "nbformat_minor": 0,
  "metadata": {
    "colab": {
      "provenance": []
    },
    "kernelspec": {
      "name": "python3",
      "display_name": "Python 3"
    },
    "language_info": {
      "name": "python"
    }
  },
  "cells": [
    {
      "cell_type": "markdown",
      "source": [
        "# **Data Types And Structures Assignment**"
      ],
      "metadata": {
        "id": "PUFBktY44KeS"
      }
    },
    {
      "cell_type": "markdown",
      "source": [
        "1.What are data structures, and why are they important ?"
      ],
      "metadata": {
        "id": "VB072n0p4dsZ"
      }
    },
    {
      "cell_type": "markdown",
      "source": [
        "Answer ->  Data Structures are the specialized format for organizing, storing , and accessing collections of data.\n",
        "They provide efficient way to manage the information based on their characteristics and use .\n",
        "\n",
        " They are important because:\n",
        "\n",
        "\n",
        "*   Choosing the right data structure significantly impacts the efficiency and performance of your program.\n",
        "*   Well choosing data structures leads to simplified data manipulation (adding, removing and modifying elements.)\n",
        "\n",
        "\n",
        "*   Best suited data structure can optimize searching and sorting operations on data.\n",
        "*   We have conserved memory usage with right data structure.\n"
      ],
      "metadata": {
        "id": "HihS_DA84do4"
      }
    },
    {
      "cell_type": "markdown",
      "source": [
        "2. Explain the difference between mutable and immutable data types with examples."
      ],
      "metadata": {
        "id": "Bzhq5VbXMvgH"
      }
    },
    {
      "cell_type": "markdown",
      "source": [
        "**Answer** -> Mutable data types means the data types type which can be changed or modified after their creation . They allows to change any element after it is created.\n",
        "\n",
        "Some common mutable data  types are List  , Dictionary , sets , etc.\n",
        "\n",
        "Immutable data types are that data types which prohibits any change once they are created . Immutable means unchangeable once it is created, we can't modify the object.If we try to change it , a new  object is created.\n",
        "\n",
        "Tuples , string , frozenset, etc. are the  some immutable data types."
      ],
      "metadata": {
        "id": "XKPerQqVM3iC"
      }
    },
    {
      "cell_type": "code",
      "source": [
        "# Examples :-\n",
        "#mutable ddata types\n",
        "grocery_list = [\"Apple\",\"Banana\",\"Potato\",\"Tomato\",\"Sugar\", \"Salt\"]\n",
        "#We want to chane banana to mango\n",
        "grocery_list[1] = \"Mango\"\n",
        "print(grocery_list)"
      ],
      "metadata": {
        "colab": {
          "base_uri": "https://localhost:8080/"
        },
        "id": "eZIitB4qRAiU",
        "outputId": "a162dab7-6d29-4215-ef23-19004e644685"
      },
      "execution_count": null,
      "outputs": [
        {
          "output_type": "stream",
          "name": "stdout",
          "text": [
            "['Apple', 'Mango', 'Potato', 'Tomato', 'Sugar', 'Salt']\n"
          ]
        }
      ]
    },
    {
      "cell_type": "code",
      "source": [
        "#immutable data types\n",
        "my_tuple = (\"Yash\" ,\"Rahul\",\"Utkarsh\",\"Shashank\",\"Parth\")\n",
        "#If we have to change Parth to Priyanshu then it will  throw an error\n",
        "my_tuple[4] = \"Priyanshu\""
      ],
      "metadata": {
        "colab": {
          "base_uri": "https://localhost:8080/",
          "height": 176
        },
        "id": "_ttk_WiXSAWY",
        "outputId": "c3f53d03-e268-49ae-f03c-b94d332a805c"
      },
      "execution_count": null,
      "outputs": [
        {
          "output_type": "error",
          "ename": "TypeError",
          "evalue": "'tuple' object does not support item assignment",
          "traceback": [
            "\u001b[0;31m---------------------------------------------------------------------------\u001b[0m",
            "\u001b[0;31mTypeError\u001b[0m                                 Traceback (most recent call last)",
            "\u001b[0;32m<ipython-input-4-9d97fe36602a>\u001b[0m in \u001b[0;36m<cell line: 0>\u001b[0;34m()\u001b[0m\n\u001b[1;32m      2\u001b[0m \u001b[0mmy_tuple\u001b[0m \u001b[0;34m=\u001b[0m \u001b[0;34m(\u001b[0m\u001b[0;34m\"Yash\"\u001b[0m \u001b[0;34m,\u001b[0m\u001b[0;34m\"Rahul\"\u001b[0m\u001b[0;34m,\u001b[0m\u001b[0;34m\"Utkarsh\"\u001b[0m\u001b[0;34m,\u001b[0m\u001b[0;34m\"Shashank\"\u001b[0m\u001b[0;34m,\u001b[0m\u001b[0;34m\"Parth\"\u001b[0m\u001b[0;34m)\u001b[0m\u001b[0;34m\u001b[0m\u001b[0;34m\u001b[0m\u001b[0m\n\u001b[1;32m      3\u001b[0m \u001b[0;31m#If we have to change Parth to Priyanshu then it will  throw an error\u001b[0m\u001b[0;34m\u001b[0m\u001b[0;34m\u001b[0m\u001b[0m\n\u001b[0;32m----> 4\u001b[0;31m \u001b[0mmy_tuple\u001b[0m\u001b[0;34m[\u001b[0m\u001b[0;36m4\u001b[0m\u001b[0;34m]\u001b[0m \u001b[0;34m=\u001b[0m \u001b[0;34m\"Priyanshu\"\u001b[0m\u001b[0;34m\u001b[0m\u001b[0;34m\u001b[0m\u001b[0m\n\u001b[0m",
            "\u001b[0;31mTypeError\u001b[0m: 'tuple' object does not support item assignment"
          ]
        }
      ]
    },
    {
      "cell_type": "markdown",
      "source": [
        "3.What are the main differences between lists and tuples in Python ?"
      ],
      "metadata": {
        "id": "UUI3JwqKTLOH"
      }
    },
    {
      "cell_type": "markdown",
      "source": [
        "The main difference between lists and tuples are as follows:\n",
        "\n",
        "\n",
        "1.   List is a mutable data structure whereas the tuple is an immutable type data structure.\n",
        "2.   Syntax of list - [1,2,3] whereas syntax of tuple - (1,2,3).\n",
        "\n",
        "3.   List is used when data needs to change whereas tuple is used when data must not needs to  be change.\n",
        "4.   List is slower as it's dynamic but tuple is faster due to immutability.\n",
        "\n",
        "5.   List uses more memory than tuple.\n",
        "\n",
        "\n",
        "\n",
        "\n",
        "\n",
        "\n"
      ],
      "metadata": {
        "id": "uxnXkb4K4IxG"
      }
    },
    {
      "cell_type": "markdown",
      "source": [
        "4. Describe how dictionaries store data ?\n"
      ],
      "metadata": {
        "id": "zMEUKs826a1x"
      }
    },
    {
      "cell_type": "markdown",
      "source": [
        "**Answer ->** Dictionaries store data in the form of unique key - value pair in which keys is immutable and each key have its associated value. Dictionaries stores data in an unordered format and each key acts as unique identifier for an associated value and keys and values can be of different data types.\n",
        "In python , dictionaries use hash table in which each key is hashed using a hash function."
      ],
      "metadata": {
        "id": "cSTEEicL6kLG"
      }
    },
    {
      "cell_type": "code",
      "source": [
        "#Dictionary example\n",
        "my_dict = {\"India\":\"New Delhi\",\"France\":\"Paris\",\"USA\":\"Washington\",\"Nepal\":\"Kathmandu\"}\n",
        "my_dict[\"India\"]"
      ],
      "metadata": {
        "colab": {
          "base_uri": "https://localhost:8080/",
          "height": 36
        },
        "id": "loO4CavQ9Ow4",
        "outputId": "961d043f-4027-4ef0-c854-5c6ff3633aff"
      },
      "execution_count": null,
      "outputs": [
        {
          "output_type": "execute_result",
          "data": {
            "text/plain": [
              "'New Delhi'"
            ],
            "application/vnd.google.colaboratory.intrinsic+json": {
              "type": "string"
            }
          },
          "metadata": {},
          "execution_count": 2
        }
      ]
    },
    {
      "cell_type": "markdown",
      "source": [
        "5.Why might you use a set instead of a list in Python ?"
      ],
      "metadata": {
        "id": "mMAfSVG_94yS"
      }
    },
    {
      "cell_type": "markdown",
      "source": [
        "We use set instead of a list because set contains unique elements , it doesn't contains duplicate element but list can have duplicate element. Set automatically removes the duplicate items .\n",
        "\n",
        "Example:-"
      ],
      "metadata": {
        "id": "3RuN_ooq-ClT"
      }
    },
    {
      "cell_type": "code",
      "source": [
        "name = [\"Yash\",\"Utkarsh\",\"Rahul\",\"Yash\",\"Shashank\",\"Utkarsh\"]  # this is a list contains the same name multiple times\n",
        "unique_name = set(name)  #We convert the list 'name' into set which prints only unique names from the list\n",
        "print(unique_name)"
      ],
      "metadata": {
        "colab": {
          "base_uri": "https://localhost:8080/"
        },
        "id": "X0w3v5U--08p",
        "outputId": "43753466-6900-46ef-8caa-bf0cc489fe22"
      },
      "execution_count": null,
      "outputs": [
        {
          "output_type": "stream",
          "name": "stdout",
          "text": [
            "{'Yash', 'Shashank', 'Utkarsh', 'Rahul'}\n"
          ]
        }
      ]
    },
    {
      "cell_type": "markdown",
      "source": [
        "6.What is a string in Python, and how is it different from a list ?\n"
      ],
      "metadata": {
        "id": "a_GK8j_r_e-s"
      }
    },
    {
      "cell_type": "markdown",
      "source": [
        "**Answer->** String in python are arrangement  of characters in an unchangeable order like a word or sentence. Each character in the string can be accessed by its index.\n",
        "\n",
        "String is different from list in many aspects:\n",
        "\n",
        "\n",
        "1.   String contains only characters data type whereas a list contains all types of data in it.\n",
        "2.   String is immutable or can not be  changed after it's creation but List is  immutable any value can be accessed and change when required.\n",
        "\n",
        "3.   Syntax of string: str1 = \"Yash\"  whereas Syntax of list: my_list = [1,2,3,\"Yash\"].\n",
        "\n",
        "\n",
        "\n",
        "\n"
      ],
      "metadata": {
        "id": "ce_mqPU6_xNm"
      }
    },
    {
      "cell_type": "markdown",
      "source": [
        "7. How do tuples ensure data integrity in Python ?"
      ],
      "metadata": {
        "id": "9wPbXtjkCePk"
      }
    },
    {
      "cell_type": "markdown",
      "source": [
        "**Answer->** Tuple ensures integrity by its immutable characteristics . Once data is stored in tuple it can not be changed  therefore prohibiting accidental and unauthorized changes .\n",
        "\n",
        "Tuples protect data by locking in it. Unchangeable data like coordinates of different locations are stored in tuples to avoid any types of changes."
      ],
      "metadata": {
        "id": "HKJIw2RFVfFd"
      }
    },
    {
      "cell_type": "markdown",
      "source": [
        "8. What is a hash table, and how does it relate to dictionaries in Python ?"
      ],
      "metadata": {
        "id": "69EcLp8yYU9M"
      }
    },
    {
      "cell_type": "markdown",
      "source": [
        " **Answer ->** A Hash Table is a data structure that stores key - value pairs using a hashing mechanism. When we store any key in the hash table then by using hash function , key is converted into a unique number that is Hash code.\n",
        "Dictionaries are implemented using hash table , when we create any keys in dictionary then by hash table , the keys has assigned it's associated hash code which makes keys unique or dictionaries immutable.\n",
        "\n",
        "By hashing dictionaries have fast access of data  and efficient memory allocation."
      ],
      "metadata": {
        "id": "eRawsq5RYqN7"
      }
    },
    {
      "cell_type": "markdown",
      "source": [
        "9.Can lists contain different data types in Python ?"
      ],
      "metadata": {
        "id": "WknugFwTbMfv"
      }
    },
    {
      "cell_type": "markdown",
      "source": [
        "**Answer ->** Yes List can store different data types , they can store multiple data types- strings , integer , float , boolean even other lists , tuples and dictionaries."
      ],
      "metadata": {
        "id": "MPuqQg1YbU4C"
      }
    },
    {
      "cell_type": "markdown",
      "source": [
        "10. Explain why strings are immutable in Python."
      ],
      "metadata": {
        "id": "UyqozpuiciJm"
      }
    },
    {
      "cell_type": "markdown",
      "source": [
        "**Answer ->** Strings in python are immutable because it prohibits any change in it directly after its creation . If we want to change it then we have to create a new string.\n",
        "\n",
        "Strings are immutable in python to provide efficiency , reliability and safe behaviour in data structure."
      ],
      "metadata": {
        "id": "_3Bo2FcMc7-U"
      }
    },
    {
      "cell_type": "markdown",
      "source": [
        "11.What advantages do dictionaries offer over lists for certain tasks ?"
      ],
      "metadata": {
        "id": "lUnzh8mqhzSX"
      }
    },
    {
      "cell_type": "markdown",
      "source": [
        "**Answer->** Dictionaries offer some advantages over lists:\n",
        "\n",
        "*   In dictionaries , data is stored in key value pair and key based indexing which allows us to access the data by key indexing and keys are unique identifier of their associated values . In real life scenario , if we have to store a data of peoples with their phone number then dictionary is most useful.\n",
        "List does not allows such types of data arrangement and key based indexing.\n",
        "*   Dictionaries are the better choice for storing related data or records than list.\n",
        "\n",
        "*   Dictionaries automatically  prevents duplicate keys in it but list can contains duplicate elements.\n",
        "*  Data  look up is very fast in dictionaries than list because in dictionaries data is searched by keys whereas in list data is searched with normal indexes.\n",
        "\n",
        "\n",
        "\n"
      ],
      "metadata": {
        "id": "GBHKbzAUiC6f"
      }
    },
    {
      "cell_type": "markdown",
      "source": [
        "12. Describe a scenario where using a tuple would be preferable over a list."
      ],
      "metadata": {
        "id": "oECgp4Gzn4UU"
      }
    },
    {
      "cell_type": "markdown",
      "source": [
        "**Answer ->** There is a scenario where we have to store the coordinates of different locations and we know that each location have its unique coordinates therefore the coordinates must have remains unchanged while storing them therefore we need an immutable data structure and then tuple is the better choice for storing such coordinates than list to avoid any accidental and unauthorized change in the coordinates."
      ],
      "metadata": {
        "id": "Uasb0jDnoB97"
      }
    },
    {
      "cell_type": "markdown",
      "source": [
        "13. How do sets handle duplicate values in Python ?"
      ],
      "metadata": {
        "id": "KVRU8jnHqxxZ"
      }
    },
    {
      "cell_type": "markdown",
      "source": [
        "**Answer ->** Sets are the data structure in python which prohibits duplicate entries in it. Set automatically removes the duplicate elements present in it .If we add a duplicate element by mistaken or other then it will remove that data silently without giving any error or warning. Therefore it prefers uniqueness while storing the data."
      ],
      "metadata": {
        "id": "Dvs9WtDfq7GA"
      }
    },
    {
      "cell_type": "markdown",
      "source": [
        "14. How does the “in” keyword work differently for lists and dictionaries ."
      ],
      "metadata": {
        "id": "oJarDIHOsFaX"
      }
    },
    {
      "cell_type": "markdown",
      "source": [
        "**Answer ->** \"in\" is a membership operator in python which checks that if a data is present in the data structure or not.\n",
        "\n",
        "When we use 'in' operator in lists then it will check whether the value exists in the list or not.\n",
        "\n",
        "When we use 'in' operator with dictionaries then it will check for keys only , not for values. We have to use it differently  for values."
      ],
      "metadata": {
        "id": "pNq5Ij_Wsbm-"
      }
    },
    {
      "cell_type": "markdown",
      "source": [
        "15. Can you modify the elements of a tuple? Explain why or why not."
      ],
      "metadata": {
        "id": "TG5c1AxUupfK"
      }
    },
    {
      "cell_type": "markdown",
      "source": [
        "**Answer ->** No we cannot modify the elements of a tuple because tuple is an immutable data structures ."
      ],
      "metadata": {
        "id": "jd9bkgJIu2_0"
      }
    },
    {
      "cell_type": "markdown",
      "source": [
        "16.What is a nested dictionary, and give an example of its use case ?"
      ],
      "metadata": {
        "id": "tn6jhocq73VN"
      }
    },
    {
      "cell_type": "markdown",
      "source": [
        "**Answer -**> Nested dictionary is the dictionary inside the another dictionary or A dictionary where each key is mapped to another dictionary as its value. It is suitable for storing complex structured data in an organized way.\n",
        "\n",
        "**Use cases:-**\n",
        "An industry stores it's employees data records with its employee id as key and (a dictionary containing name, mobile no. , account number , address ,etc  ) as value."
      ],
      "metadata": {
        "id": "S0Y9-9Im7_be"
      }
    },
    {
      "cell_type": "code",
      "source": [
        "emp_data = {\n",
        "    'E0001':{\"name\":\"Ajit\",'phone no.': 123467,'Account No.':546783578},\n",
        "    'E0002':{\"name\":\"Abhay\",'phone no.': 129863,'Account No.':54671322},\n",
        "    'E0003':{\"name\":\"Abhinav\",'phone no.': 976323467,'Account No.':546679099},\n",
        "}\n",
        "print(emp_data)"
      ],
      "metadata": {
        "colab": {
          "base_uri": "https://localhost:8080/"
        },
        "id": "sNjpk7w_Yp1n",
        "outputId": "9e0c8894-ef4b-4674-8eb5-26744d032e36"
      },
      "execution_count": null,
      "outputs": [
        {
          "output_type": "stream",
          "name": "stdout",
          "text": [
            "{'E0001': {'name': 'Ajit', 'phone no.': 123467, 'Account No.': 546783578}, 'E0002': {'name': 'Abhay', 'phone no.': 129863, 'Account No.': 54671322}, 'E0003': {'name': 'Abhinav', 'phone no.': 976323467, 'Account No.': 546679099}}\n"
          ]
        }
      ]
    },
    {
      "cell_type": "markdown",
      "source": [
        "17. Describe the time complexity of accessing elements in a dictionary ?"
      ],
      "metadata": {
        "id": "kf64qMuw-P8U"
      }
    },
    {
      "cell_type": "markdown",
      "source": [
        "**Answer->** Dictionaries have keys which have unique hash code as they are implemented using hash table and according  to these hash codes memory location of key- value pair is done therefore by computing the hash value instantly finds the memory location of required key . Hence it's average case time complexity is O(1).\n",
        "\n",
        "In rare case or worst case time complexity is O(n) it happens when too many keys end up with the same hash code."
      ],
      "metadata": {
        "id": "YbX1PG2Z-qnz"
      }
    },
    {
      "cell_type": "markdown",
      "source": [
        "18. In what situations are lists preferred over dictionaries ?"
      ],
      "metadata": {
        "id": "8ADxGpOGCLvd"
      }
    },
    {
      "cell_type": "markdown",
      "source": [
        "**Answer ->** List is preferred over dictionaries in given situations:\n",
        "\n",
        "\n",
        "*   When we need to store the data in an ordered manner.\n",
        "*   When there is no need to label the values.\n",
        "\n",
        "*   When duplicate values are not matter.\n",
        "*   When we need to iterate over a sequence or we need to access items by index.\n",
        "  \n",
        "  In use cases while preparing grocery list , Bus routine chart,etc.\n",
        "\n",
        "\n",
        "\n"
      ],
      "metadata": {
        "id": "hm3q6T4CChwq"
      }
    },
    {
      "cell_type": "markdown",
      "source": [
        "19.Why are dictionaries considered unordered, and how does that affect data retrieval ?"
      ],
      "metadata": {
        "id": "f0Cd14rsE9MS"
      }
    },
    {
      "cell_type": "markdown",
      "source": [
        "**Answer ->** Dictionaries are unordered collection of data as it stores data in the form of key-value pair which implemented by hash table . Due to this the retrieval of data becomes easy and fast than ordered data structures like list or other . Dictionaries insert data in random order as they focuses on speed not order. Therefore search in dictionary have time complexity of o(1)."
      ],
      "metadata": {
        "id": "UoJgjUhvFHVI"
      }
    },
    {
      "cell_type": "markdown",
      "source": [
        "20. Explain the difference between a list and a dictionary in terms of data retrieval."
      ],
      "metadata": {
        "id": "NvSP-9dcGkCd"
      }
    },
    {
      "cell_type": "markdown",
      "source": [
        "**Answer->** In list the data is retrieved by the indexing of their position, data is stored in an ordered form and we access data by its position and we need to take care of order .\n",
        "\n",
        "In dictionary each data have it's unique identifier or keys and we can retrieve that data by key based indexing and we have no need to take care about order.\n",
        "We can access easily by their keys."
      ],
      "metadata": {
        "id": "A_8icEhhGuen"
      }
    },
    {
      "cell_type": "markdown",
      "source": [
        "# Practical Questions"
      ],
      "metadata": {
        "id": "HetroYDvHjV0"
      }
    },
    {
      "cell_type": "markdown",
      "source": [
        "1. Write a code to create a string with your name and print it."
      ],
      "metadata": {
        "id": "bDyF7KxZHshT"
      }
    },
    {
      "cell_type": "code",
      "execution_count": null,
      "metadata": {
        "id": "BmCAwuL84JhA",
        "colab": {
          "base_uri": "https://localhost:8080/"
        },
        "outputId": "d9d404bf-5f83-4098-ca80-67c8357ecb71"
      },
      "outputs": [
        {
          "output_type": "stream",
          "name": "stdout",
          "text": [
            "My name is : Yash Dwivedi\n"
          ]
        }
      ],
      "source": [
        "name = \"Yash Dwivedi\"\n",
        "print(\"My name is :\" , name)"
      ]
    },
    {
      "cell_type": "markdown",
      "source": [
        "2.Write a code to find the length of the string \"Hello World\"."
      ],
      "metadata": {
        "id": "ecDacJjYJHN6"
      }
    },
    {
      "cell_type": "code",
      "source": [
        "str = \"Hello World\"\n",
        "length = len(str)\n",
        "print(\"Length of the given string is:\",length)"
      ],
      "metadata": {
        "id": "3zyGE01oIGE9",
        "colab": {
          "base_uri": "https://localhost:8080/"
        },
        "outputId": "9a3fb8e2-9a72-40a6-e42b-3a517e66a2aa"
      },
      "execution_count": 11,
      "outputs": [
        {
          "output_type": "stream",
          "name": "stdout",
          "text": [
            "Length of the given string is: 11\n"
          ]
        }
      ]
    },
    {
      "cell_type": "markdown",
      "source": [
        "3. Write a code to slice the first 3 characters from the string \"Python Programming\"."
      ],
      "metadata": {
        "id": "_FgZhfyMzdGE"
      }
    },
    {
      "cell_type": "code",
      "source": [
        "str = \"Python Programming\"\n",
        "print(str[0:3])"
      ],
      "metadata": {
        "colab": {
          "base_uri": "https://localhost:8080/"
        },
        "id": "EgwmwdWvx7dB",
        "outputId": "3955c3c6-c891-46ef-8b99-33105deba6e6"
      },
      "execution_count": 13,
      "outputs": [
        {
          "output_type": "stream",
          "name": "stdout",
          "text": [
            "Pyt\n"
          ]
        }
      ]
    },
    {
      "cell_type": "markdown",
      "source": [
        "4.Write a code to convert the string \"hello\" to uppercase."
      ],
      "metadata": {
        "id": "1Lp4TEQK0Jnr"
      }
    },
    {
      "cell_type": "code",
      "source": [
        "text = \"hello\"\n",
        "print(text.upper())"
      ],
      "metadata": {
        "colab": {
          "base_uri": "https://localhost:8080/"
        },
        "id": "T67HZtBgz7lF",
        "outputId": "2d3cbdc7-49bb-4ee2-f851-48469076881b"
      },
      "execution_count": 14,
      "outputs": [
        {
          "output_type": "stream",
          "name": "stdout",
          "text": [
            "HELLO\n"
          ]
        }
      ]
    },
    {
      "cell_type": "markdown",
      "source": [
        "5. Write a code to replace the word \"apple\" with \"orange\" in the string \"I like apple\"."
      ],
      "metadata": {
        "id": "M-Nz6q1L1xoJ"
      }
    },
    {
      "cell_type": "code",
      "source": [
        "sentence = \"I like apple\"\n",
        "updated_sentence = sentence.replace(\"apple\",\"orange\")\n",
        "print(updated_sentence)"
      ],
      "metadata": {
        "colab": {
          "base_uri": "https://localhost:8080/"
        },
        "id": "xJVSweCL1vww",
        "outputId": "95aba3ec-ba8c-4c45-900e-7c9dfda55b88"
      },
      "execution_count": 15,
      "outputs": [
        {
          "output_type": "stream",
          "name": "stdout",
          "text": [
            "I like orange\n"
          ]
        }
      ]
    },
    {
      "cell_type": "markdown",
      "source": [
        "6.Write a code to create a list with numbers 1 to 5 and print it."
      ],
      "metadata": {
        "id": "oSgZUdWA2P0i"
      }
    },
    {
      "cell_type": "code",
      "source": [
        "list1 = [1,2,3,4,5]\n",
        "print(list1)"
      ],
      "metadata": {
        "colab": {
          "base_uri": "https://localhost:8080/"
        },
        "id": "R2SaT_t52N1b",
        "outputId": "2cc2269c-4a17-475a-a8ee-8d83a8cdcd35"
      },
      "execution_count": 16,
      "outputs": [
        {
          "output_type": "stream",
          "name": "stdout",
          "text": [
            "[1, 2, 3, 4, 5]\n"
          ]
        }
      ]
    },
    {
      "cell_type": "markdown",
      "source": [
        "7.Write a code to append the number 10 to the list [1, 2, 3, 4]."
      ],
      "metadata": {
        "id": "PSI2Yxla4k-_"
      }
    },
    {
      "cell_type": "code",
      "source": [
        "list2 = [1,2,3,4]\n",
        "list2.append(10)\n",
        "print(list2)"
      ],
      "metadata": {
        "colab": {
          "base_uri": "https://localhost:8080/"
        },
        "id": "pEu9HgKQ2x1X",
        "outputId": "be5805b2-2111-4d15-fe95-78fc212295d0"
      },
      "execution_count": 17,
      "outputs": [
        {
          "output_type": "stream",
          "name": "stdout",
          "text": [
            "[1, 2, 3, 4, 10]\n"
          ]
        }
      ]
    },
    {
      "cell_type": "markdown",
      "source": [
        "8.Write a code to remove the number 3 from the list [1, 2, 3, 4, 5]."
      ],
      "metadata": {
        "id": "JPya23Ao5APj"
      }
    },
    {
      "cell_type": "code",
      "source": [
        "list1 = [1,2,3,4,5]\n",
        "list1.remove(3)\n",
        "print(list1)"
      ],
      "metadata": {
        "colab": {
          "base_uri": "https://localhost:8080/"
        },
        "id": "8ypRSJ3O42d4",
        "outputId": "399ba7e6-3a93-43b0-966e-1da1b5b7f8e8"
      },
      "execution_count": 20,
      "outputs": [
        {
          "output_type": "stream",
          "name": "stdout",
          "text": [
            "[1, 2, 4, 5]\n"
          ]
        }
      ]
    },
    {
      "cell_type": "markdown",
      "source": [
        "9.Write a code to access the second element in the list ['a', 'b', 'c', 'd']."
      ],
      "metadata": {
        "id": "Xh2Xiiac6YXc"
      }
    },
    {
      "cell_type": "code",
      "source": [
        "lst = ['a','b','c','d']\n",
        "second_item = lst[1]\n",
        "print(second_item)"
      ],
      "metadata": {
        "colab": {
          "base_uri": "https://localhost:8080/"
        },
        "id": "r0i72Q_H4-6r",
        "outputId": "21854b03-ef56-4f89-9172-4d8872a795ab"
      },
      "execution_count": 22,
      "outputs": [
        {
          "output_type": "stream",
          "name": "stdout",
          "text": [
            "b\n"
          ]
        }
      ]
    },
    {
      "cell_type": "markdown",
      "source": [
        "10. Write a code to reverse the list [10, 20, 30, 40, 50]."
      ],
      "metadata": {
        "id": "C-bDfDtH68me"
      }
    },
    {
      "cell_type": "code",
      "source": [
        "number = [10,20,30,40,50]\n",
        "print(\"Reverse of the given list:\",number[::-1])"
      ],
      "metadata": {
        "colab": {
          "base_uri": "https://localhost:8080/"
        },
        "id": "2RmNwW4v6y24",
        "outputId": "47f19e77-c477-48db-f2a7-b4f2b7706329"
      },
      "execution_count": 24,
      "outputs": [
        {
          "output_type": "stream",
          "name": "stdout",
          "text": [
            "Reverse of the given list: [50, 40, 30, 20, 10]\n"
          ]
        }
      ]
    },
    {
      "cell_type": "markdown",
      "source": [
        "11. Write a code to create a tuple with the elements 100, 200, 300 and print it."
      ],
      "metadata": {
        "id": "6gFKRLue_oRh"
      }
    },
    {
      "cell_type": "code",
      "source": [
        "tuple1 = (100,200,300)\n",
        "print(tuple1)"
      ],
      "metadata": {
        "colab": {
          "base_uri": "https://localhost:8080/"
        },
        "id": "0TpdVAyp_fzU",
        "outputId": "3852cf2b-8047-4a67-d735-289fabd96e28"
      },
      "execution_count": 25,
      "outputs": [
        {
          "output_type": "stream",
          "name": "stdout",
          "text": [
            "(100, 200, 300)\n"
          ]
        }
      ]
    },
    {
      "cell_type": "markdown",
      "source": [
        "12. Write a code to access the second-to-last element of the tuple ('red', 'green', 'blue', 'yellow')."
      ],
      "metadata": {
        "id": "F00ugNLi_47Q"
      }
    },
    {
      "cell_type": "code",
      "source": [
        "tuple2 = (\"red\",\"green\",\"blue\",\"yellow\")\n",
        "print(tuple2[1:])"
      ],
      "metadata": {
        "colab": {
          "base_uri": "https://localhost:8080/"
        },
        "id": "RGreEneg_2ux",
        "outputId": "302f7d66-fb63-41bf-9452-5cafed747fc1"
      },
      "execution_count": 27,
      "outputs": [
        {
          "output_type": "stream",
          "name": "stdout",
          "text": [
            "('green', 'blue', 'yellow')\n"
          ]
        }
      ]
    },
    {
      "cell_type": "markdown",
      "source": [
        "13. Write a code to find the minimum number in the tuple (10, 20, 5, 15)."
      ],
      "metadata": {
        "id": "cSG_VGt9AoGm"
      }
    },
    {
      "cell_type": "code",
      "source": [
        "tuple3 = (10,20,5,15)\n",
        "print(min(tuple3))"
      ],
      "metadata": {
        "colab": {
          "base_uri": "https://localhost:8080/"
        },
        "id": "TnFiWqzNAUyZ",
        "outputId": "1cc92c34-2232-4786-c057-029ce41537c4"
      },
      "execution_count": 16,
      "outputs": [
        {
          "output_type": "stream",
          "name": "stdout",
          "text": [
            "5\n"
          ]
        }
      ]
    },
    {
      "cell_type": "markdown",
      "source": [
        "14. Write a code to find the index of the element \"cat\" in the tuple ('dog', 'cat', 'rabbit')."
      ],
      "metadata": {
        "id": "yVGpM88XBj6-"
      }
    },
    {
      "cell_type": "code",
      "source": [
        "pet = (\"dog\",\"cat\",\"rabbit\")\n",
        "print(pet.index(\"cat\"))"
      ],
      "metadata": {
        "colab": {
          "base_uri": "https://localhost:8080/"
        },
        "id": "jAILYBnEBhI1",
        "outputId": "bb122a16-ebad-4292-d82b-c15971f86018"
      },
      "execution_count": 29,
      "outputs": [
        {
          "output_type": "stream",
          "name": "stdout",
          "text": [
            "1\n"
          ]
        }
      ]
    },
    {
      "cell_type": "markdown",
      "source": [
        "15. Write a code to create a tuple containing three different fruits and check if \"kiwi\" is in it."
      ],
      "metadata": {
        "id": "MZBrMdYQCMMe"
      }
    },
    {
      "cell_type": "code",
      "source": [
        "fruit = (\"Mango\",\"Banana\",\"Grapes\",\"Kiwi\")\n",
        "confrm = \"Kiwi\" in fruit\n",
        "if(confrm == True):\n",
        "  print(\"Yes Kiwi is present .\")\n",
        "else:\n",
        "  print(\"Kiwi is not present.\")"
      ],
      "metadata": {
        "colab": {
          "base_uri": "https://localhost:8080/"
        },
        "id": "bpXrg9HsB-zJ",
        "outputId": "d334b98f-dcf6-4104-d572-b10b20819eb4"
      },
      "execution_count": 32,
      "outputs": [
        {
          "output_type": "stream",
          "name": "stdout",
          "text": [
            "Yes Kiwi is present .\n"
          ]
        }
      ]
    },
    {
      "cell_type": "markdown",
      "source": [
        "16. Write a code to create a set with the elements 'a', 'b', 'c' and print it."
      ],
      "metadata": {
        "id": "X-JfpDihDerU"
      }
    },
    {
      "cell_type": "code",
      "source": [
        "set1 = {'a','b','c'}\n",
        "print(set1)\n",
        "type(set1)"
      ],
      "metadata": {
        "colab": {
          "base_uri": "https://localhost:8080/"
        },
        "id": "S2xxIXEACtgA",
        "outputId": "a7518df6-b221-48ad-fa2c-c2348f8e0e77"
      },
      "execution_count": 34,
      "outputs": [
        {
          "output_type": "stream",
          "name": "stdout",
          "text": [
            "{'a', 'b', 'c'}\n"
          ]
        },
        {
          "output_type": "execute_result",
          "data": {
            "text/plain": [
              "set"
            ]
          },
          "metadata": {},
          "execution_count": 34
        }
      ]
    },
    {
      "cell_type": "markdown",
      "source": [
        "17. Write a code to clear all elements from the set {1, 2, 3, 4, 5}."
      ],
      "metadata": {
        "id": "8o2N7I6ADtYq"
      }
    },
    {
      "cell_type": "code",
      "source": [
        "set2 = {1,2,3,4,5}\n",
        "print(set2)\n",
        "set2.clear()\n",
        "print(\"set2 is cleared\",set2)"
      ],
      "metadata": {
        "colab": {
          "base_uri": "https://localhost:8080/"
        },
        "id": "jskLolYdDcF_",
        "outputId": "f31033a0-a51e-49bb-9b38-43ba816b4d31"
      },
      "execution_count": 38,
      "outputs": [
        {
          "output_type": "stream",
          "name": "stdout",
          "text": [
            "{1, 2, 3, 4, 5}\n",
            "set2 is cleared set()\n"
          ]
        }
      ]
    },
    {
      "cell_type": "markdown",
      "source": [
        "18. Write a code to remove the element 4 from the set {1, 2, 3, 4}.\n"
      ],
      "metadata": {
        "id": "G3reYK8uE1v-"
      }
    },
    {
      "cell_type": "code",
      "source": [
        "s = {1,2,3,4}\n",
        "print(\"Original set:\",s)\n",
        "s.remove(4)\n",
        "print(\"Updated set:\",s)"
      ],
      "metadata": {
        "colab": {
          "base_uri": "https://localhost:8080/"
        },
        "id": "XjtPVZpYEMrB",
        "outputId": "5fae7789-0b42-4e77-f58d-11ac15898b53"
      },
      "execution_count": 40,
      "outputs": [
        {
          "output_type": "stream",
          "name": "stdout",
          "text": [
            "Original set: {1, 2, 3, 4}\n",
            "Updated set: {1, 2, 3}\n"
          ]
        }
      ]
    },
    {
      "cell_type": "markdown",
      "source": [
        "19. Write a code to find the union of two sets {1, 2, 3} and {3, 4, 5}."
      ],
      "metadata": {
        "id": "3al6Mw6yF7J6"
      }
    },
    {
      "cell_type": "code",
      "source": [
        "s1 = {1,2,3}\n",
        "s2 = {3,4,5}\n",
        "#union of sets s1 and s2\n",
        "sunion = s1.union(s2)\n",
        "print(\"Union of set s1 and s2:\",sunion)"
      ],
      "metadata": {
        "colab": {
          "base_uri": "https://localhost:8080/"
        },
        "id": "M9tew4bOFknR",
        "outputId": "f8be8e03-8102-41db-eb6b-8630e0c6d2dc"
      },
      "execution_count": 41,
      "outputs": [
        {
          "output_type": "stream",
          "name": "stdout",
          "text": [
            "Union of set s1 and s2: {1, 2, 3, 4, 5}\n"
          ]
        }
      ]
    },
    {
      "cell_type": "markdown",
      "source": [
        "20. Write a code to find the intersection of two sets {1, 2, 3} and {2, 3, 4}."
      ],
      "metadata": {
        "id": "iq7SN02qGx3F"
      }
    },
    {
      "cell_type": "code",
      "source": [
        "s1 = {1,2,3}\n",
        "s2 = {2,3,4}\n",
        "#Intersection of s1 and s2.\n",
        "sintersection = s1.intersection(s2)\n",
        "print(\"Intersection of two sets:\", sintersection)"
      ],
      "metadata": {
        "colab": {
          "base_uri": "https://localhost:8080/"
        },
        "id": "6IYCGHFYGp-F",
        "outputId": "4857d457-0240-4133-faf0-b02fcbbc7831"
      },
      "execution_count": 42,
      "outputs": [
        {
          "output_type": "stream",
          "name": "stdout",
          "text": [
            "Intersection of two sets: {2, 3}\n"
          ]
        }
      ]
    },
    {
      "cell_type": "markdown",
      "source": [
        "21. Write a code to create a dictionary with the keys \"name\", \"age\", and \"city\", and print it."
      ],
      "metadata": {
        "id": "oMCkIIdaHM5Z"
      }
    },
    {
      "cell_type": "code",
      "source": [
        "my_info = {\"name\":\"Yash\",\"age\":22,\"city\":\"Haridwar\"}\n",
        "print(my_info)"
      ],
      "metadata": {
        "colab": {
          "base_uri": "https://localhost:8080/"
        },
        "id": "6KTrBlZTHKer",
        "outputId": "278e146d-aed7-4a34-8d9c-c93c25db6e47"
      },
      "execution_count": 43,
      "outputs": [
        {
          "output_type": "stream",
          "name": "stdout",
          "text": [
            "{'name': 'Yash', 'age': 22, 'city': 'Haridwar'}\n"
          ]
        }
      ]
    },
    {
      "cell_type": "markdown",
      "source": [
        "22. Write a code to add a new key-value pair \"country\": \"USA\" to the dictionary {'name': 'John', 'age': 25}."
      ],
      "metadata": {
        "id": "beTnCBWZIoGV"
      }
    },
    {
      "cell_type": "code",
      "source": [
        "my_dict = {'name': 'John', 'age': 25}\n",
        "my_dict['city'] = \"USA\"\n",
        "print(my_dict)"
      ],
      "metadata": {
        "colab": {
          "base_uri": "https://localhost:8080/"
        },
        "id": "Bfa6NUUAImj7",
        "outputId": "7436ef7f-ca9f-4b7f-923a-3da66da8b0de"
      },
      "execution_count": 46,
      "outputs": [
        {
          "output_type": "stream",
          "name": "stdout",
          "text": [
            "{'name': 'John', 'age': 25, 'city': 'USA'}\n"
          ]
        }
      ]
    },
    {
      "cell_type": "markdown",
      "source": [
        "23.Write a code to access the value associated with the key \"name\" in the dictionary {'name': 'Alice', 'age': 30}."
      ],
      "metadata": {
        "id": "uWVz_MNHLS85"
      }
    },
    {
      "cell_type": "code",
      "source": [
        "d1 = {'name': 'Alice', 'age': 30}\n",
        "value = d1['name']\n",
        "print(value)"
      ],
      "metadata": {
        "colab": {
          "base_uri": "https://localhost:8080/"
        },
        "id": "1aDAhTQEJ86G",
        "outputId": "43ba4022-d1d2-4ac4-c03c-bc6269a61abb"
      },
      "execution_count": 49,
      "outputs": [
        {
          "output_type": "stream",
          "name": "stdout",
          "text": [
            "Alice\n"
          ]
        }
      ]
    },
    {
      "cell_type": "markdown",
      "source": [
        "24. Write a code to remove the key \"age\" from the dictionary {'name': 'Bob', 'age': 22, 'city': 'New York'}."
      ],
      "metadata": {
        "id": "tWrVEJkoMOZ-"
      }
    },
    {
      "cell_type": "code",
      "source": [
        "d2 =  {'name': 'Bob', 'age': 22, 'city': 'New York'}\n",
        "d2.pop(\"age\")\n",
        "print(d2)"
      ],
      "metadata": {
        "colab": {
          "base_uri": "https://localhost:8080/"
        },
        "id": "mFjFMGZdL8UA",
        "outputId": "2f629a79-92e1-4569-aed8-cfd6cc082f26"
      },
      "execution_count": 50,
      "outputs": [
        {
          "output_type": "stream",
          "name": "stdout",
          "text": [
            "{'name': 'Bob', 'city': 'New York'}\n"
          ]
        }
      ]
    },
    {
      "cell_type": "markdown",
      "source": [
        "25.Write a code to check if the key \"city\" exists in the dictionary {'name': 'Alice', 'city': 'Paris'}."
      ],
      "metadata": {
        "id": "bIM7ls32M1ug"
      }
    },
    {
      "cell_type": "code",
      "source": [
        "d3 =  {'name': 'Alice', 'city': 'Paris'}\n",
        "checkcity = 'city' in d3\n",
        "if checkcity == True:\n",
        "  print(\"Yes city is present\")\n",
        "else:\n",
        "  print(\"No city is not present.\")\n"
      ],
      "metadata": {
        "colab": {
          "base_uri": "https://localhost:8080/"
        },
        "id": "MrkP_Fi8MxVh",
        "outputId": "ec9c5d96-71fb-45ee-a0c6-afb3e0099db5"
      },
      "execution_count": 52,
      "outputs": [
        {
          "output_type": "stream",
          "name": "stdout",
          "text": [
            "Yes city is present\n"
          ]
        }
      ]
    },
    {
      "cell_type": "markdown",
      "source": [
        "26.Write a code to create a list, a tuple, and a dictionary, and print them all.\n",
        "\n"
      ],
      "metadata": {
        "id": "-08UOgEbNefN"
      }
    },
    {
      "cell_type": "code",
      "source": [
        "list1 = [\"Yash\",1,2,True,2+3j]\n",
        "dict1 = {'name': 'Alice', 'city': 'Paris'}\n",
        "tuple1 = (\"Yash\",\"Ansh\",\"Rahul\",1,2)\n",
        "print(list1)\n",
        "print(dict1)\n",
        "print(tuple1)"
      ],
      "metadata": {
        "colab": {
          "base_uri": "https://localhost:8080/"
        },
        "id": "eD1V0FfjNIBU",
        "outputId": "28982966-c041-4b91-ef5b-4c4dec6dfede"
      },
      "execution_count": 53,
      "outputs": [
        {
          "output_type": "stream",
          "name": "stdout",
          "text": [
            "['Yash', 1, 2, True, (2+3j)]\n",
            "{'name': 'Alice', 'city': 'Paris'}\n",
            "('Yash', 'Ansh', 'Rahul', 1, 2)\n"
          ]
        }
      ]
    },
    {
      "cell_type": "markdown",
      "source": [
        "27.Write a code to create a list of 5 random numbers between 1 and 100, sort it in ascending order, and print the\n",
        "result.(replaced)"
      ],
      "metadata": {
        "id": "PuGWb_75OW8v"
      }
    },
    {
      "cell_type": "code",
      "source": [
        "import random\n",
        "num = []\n",
        "for i in range(1,6):\n",
        "  random_num = random.randint(1,100)\n",
        "  num.append(random_num)\n",
        "\n",
        "print(num)\n",
        "num.sort()\n",
        "print(\"Sorted list :\",num)"
      ],
      "metadata": {
        "colab": {
          "base_uri": "https://localhost:8080/"
        },
        "id": "OlJf26EpOVj1",
        "outputId": "ebe00d5c-1b2e-4e1a-d033-04cc51837318"
      },
      "execution_count": 4,
      "outputs": [
        {
          "output_type": "stream",
          "name": "stdout",
          "text": [
            "[13, 16, 95, 65, 79]\n",
            "Sorted list : [13, 16, 65, 79, 95]\n"
          ]
        }
      ]
    },
    {
      "cell_type": "markdown",
      "source": [
        "28. Write a code to create a list with strings and print the element at the third index."
      ],
      "metadata": {
        "id": "r3gx9bh-7l2j"
      }
    },
    {
      "cell_type": "code",
      "source": [
        "name = [\"Yash\",\"Utkarsh\",\"Rahul\",\"Shashank\",\"Parth\",\"Aman\"] # creating the list of strings.\n",
        "third_index = name[3]\n",
        "print(third_index)"
      ],
      "metadata": {
        "colab": {
          "base_uri": "https://localhost:8080/"
        },
        "id": "i-yzVt7J60Jw",
        "outputId": "a3e2ed3c-82ad-432d-fecc-ebefa7db8cc6"
      },
      "execution_count": 5,
      "outputs": [
        {
          "output_type": "stream",
          "name": "stdout",
          "text": [
            "Shashank\n"
          ]
        }
      ]
    },
    {
      "cell_type": "markdown",
      "source": [
        "29. Write a code to combine two dictionaries into one and print the result."
      ],
      "metadata": {
        "id": "IjoAMjaA9BI6"
      }
    },
    {
      "cell_type": "code",
      "source": [
        "dict1 = {'name': 'Bob', 'age': 22, 'city': 'New York'}\n",
        "dict2 = {'mobile_no':762344,'country':\"USA\"}\n",
        "combined_dict = {**dict1 , **dict2} #combining two dictionaries\n",
        "print(combined_dict)"
      ],
      "metadata": {
        "colab": {
          "base_uri": "https://localhost:8080/"
        },
        "id": "Jz8C2HWD8-Nk",
        "outputId": "460bd2fb-e0d9-4e01-c5eb-80370a161a81"
      },
      "execution_count": 12,
      "outputs": [
        {
          "output_type": "stream",
          "name": "stdout",
          "text": [
            "{'name': 'Bob', 'age': 22, 'city': 'New York', 'mobile_no': 762344, 'country': 'USA'}\n"
          ]
        }
      ]
    },
    {
      "cell_type": "markdown",
      "source": [
        "30. Write a code to convert a list of strings into a set."
      ],
      "metadata": {
        "id": "7f0CrlMV_is6"
      }
    },
    {
      "cell_type": "code",
      "source": [
        "#consider the list of strings 'name' taken in question 28\n",
        "set_name = set(name)#converting the list into set.\n",
        "print(\"List of dictionaries in set form:\",set_name)\n",
        "print(type(set_name))"
      ],
      "metadata": {
        "colab": {
          "base_uri": "https://localhost:8080/"
        },
        "id": "WWqUg3x39w5V",
        "outputId": "3c3188bc-8784-4602-b303-4431b1202393"
      },
      "execution_count": 15,
      "outputs": [
        {
          "output_type": "stream",
          "name": "stdout",
          "text": [
            "List of dictionaries in set form: {'Shashank', 'Rahul', 'Yash', 'Parth', 'Aman', 'Utkarsh'}\n",
            "<class 'set'>\n"
          ]
        }
      ]
    },
    {
      "cell_type": "code",
      "source": [],
      "metadata": {
        "id": "Cr9vKSTK_xUG"
      },
      "execution_count": null,
      "outputs": []
    }
  ]
}